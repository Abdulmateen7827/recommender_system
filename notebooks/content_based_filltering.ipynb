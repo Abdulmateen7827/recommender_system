{
 "cells": [
  {
   "cell_type": "markdown",
   "metadata": {},
   "source": [
    "# Recommendation engine with content based filtering"
   ]
  },
  {
   "cell_type": "markdown",
   "metadata": {},
   "source": [
    "<a name=\"1\"></a>\n",
    "## 1 - Packages"
   ]
  },
  {
   "cell_type": "code",
   "execution_count": 1,
   "metadata": {},
   "outputs": [],
   "source": [
    "import numpy as np\n",
    "from numpy import genfromtxt\n",
    "import numpy.ma as ma\n",
    "import pandas as pd\n",
    "import tensorflow as tf\n",
    "from tensorflow import keras\n",
    "from sklearn.preprocessing import StandardScaler, MinMaxScaler\n",
    "from sklearn.model_selection import train_test_split\n",
    "import tabulate\n",
    "from recsysNN_utils import *\n",
    "pd.set_option(\"display.precision\", 1)\n",
    "import mlflow"
   ]
  },
  {
   "cell_type": "markdown",
   "metadata": {},
   "source": [
    "<a name=\"2\"></a>\n",
    "## 2 - Movie ratings dataset"
   ]
  },
  {
   "cell_type": "markdown",
   "metadata": {},
   "source": [
    "The data set is derived from the [MovieLens ml-latest-small](https://grouplens.org/datasets/movielens/latest/) dataset.\n",
    "The dataset has over 9000 movies rated by  600 users with ratings on a scale of 0.5 to 5 in 0.5 step increments. The dataset has $n_u = 610$ users, $n_m= 9742$ movies and 100836 ratings."
   ]
  },
  {
   "cell_type": "markdown",
   "metadata": {},
   "source": [
    "<a name=\"3\"></a>\n",
    "## 3 - Content-based filtering with a neural network\n",
    "Content-based filtering uses item features to recommend other items similar to what the user likes, based on their previous actions or explicit feedback."
   ]
  },
  {
   "cell_type": "markdown",
   "metadata": {},
   "source": [
    "<a name=\"3.1\"></a>\n",
    "### 3.1 Training Data\n",
    "\n",
    "The original features are the year the movie was released and the movie's genre's presented as a one-hot vector. There are 18 genres. The engineered feature is an average rating derived from the user ratings. \n",
    "\n",
    "The user content is composed of engineered features. A per genre average rating is computed per user.  \n",
    "\n",
    "The target, y, is the movie rating given by the user. "
   ]
  },
  {
   "cell_type": "code",
   "execution_count": 2,
   "metadata": {},
   "outputs": [
    {
     "data": {
      "text/plain": [
       "<Experiment: artifact_location='mlflow-artifacts:/634769499380944910', creation_time=1692300898967, experiment_id='634769499380944910', last_update_time=1692300898967, lifecycle_stage='active', name='Recommender system', tags={}>"
      ]
     },
     "execution_count": 2,
     "metadata": {},
     "output_type": "execute_result"
    }
   ],
   "source": [
    "mlflow.set_tracking_uri('http://127.0.0.1:5000')\n",
    "mlflow.set_experiment(\"Recommender system\")"
   ]
  },
  {
   "cell_type": "code",
   "execution_count": 3,
   "metadata": {},
   "outputs": [],
   "source": [
    "mlflow.tensorflow.autolog()"
   ]
  },
  {
   "cell_type": "code",
   "execution_count": 2,
   "metadata": {},
   "outputs": [
    {
     "name": "stdout",
     "output_type": "stream",
     "text": [
      "Number of training vectors: 100836\n"
     ]
    }
   ],
   "source": [
    "item_train = genfromtxt('./data/ml-latest-small/content_item_train.csv',delimiter=',')\n",
    "user_train = genfromtxt('./data/ml-latest-small/content_user_train.csv',delimiter=',')\n",
    "y_train = genfromtxt('./data/ml-latest-small/content_y_train.csv',delimiter=',')\n",
    "item_vecs = genfromtxt('./data/ml-latest-small/item_vecs.csv',delimiter=',')\n",
    "\n",
    "num_user_features = user_train.shape[1] - 1  # remove userid during training\n",
    "num_item_features = item_train.shape[1] - 1  # remove movie id at train time\n",
    "\n",
    "print(f\"Number of training vectors: {len(item_train)}\")"
   ]
  },
  {
   "cell_type": "code",
   "execution_count": 22,
   "metadata": {},
   "outputs": [
    {
     "data": {
      "text/plain": [
       "(80668, 19)"
      ]
     },
     "execution_count": 22,
     "metadata": {},
     "output_type": "execute_result"
    }
   ],
   "source": [
    "user_train.shape"
   ]
  },
  {
   "cell_type": "code",
   "execution_count": 3,
   "metadata": {},
   "outputs": [],
   "source": [
    "# scale training data\n",
    "item_train_unscaled = item_train\n",
    "user_train_unscaled = user_train\n",
    "y_train_unscaled    = y_train\n",
    "\n",
    "scalerItem = StandardScaler()\n",
    "item_train = scalerItem.fit_transform(item_train)\n",
    "\n",
    "scalerUser = StandardScaler()\n",
    "user_train =  scalerUser.fit_transform(user_train)\n",
    "\n",
    "scalerTarget = MinMaxScaler((-1, 1))\n",
    "scalerTarget.fit(y_train.reshape(-1, 1))\n",
    "y_train = scalerTarget.transform(y_train.reshape(-1, 1))\n",
    "#ynorm_test = scalerTarget.transform(y_test.reshape(-1, 1))\n",
    "\n"
   ]
  },
  {
   "cell_type": "code",
   "execution_count": 4,
   "metadata": {},
   "outputs": [
    {
     "name": "stdout",
     "output_type": "stream",
     "text": [
      "True\n",
      "True\n"
     ]
    }
   ],
   "source": [
    "print(np.allclose(item_train_unscaled, scalerItem.inverse_transform(item_train)))\n",
    "print(np.allclose(user_train_unscaled, scalerUser.inverse_transform(user_train)))"
   ]
  },
  {
   "cell_type": "code",
   "execution_count": 5,
   "metadata": {},
   "outputs": [
    {
     "name": "stdout",
     "output_type": "stream",
     "text": [
      "movie/item training data shape: (80668, 21)\n",
      "movie/item test data shape: (20168, 21)\n"
     ]
    }
   ],
   "source": [
    "item_train, item_test = train_test_split(item_train, train_size=0.80, shuffle=True, random_state=1)\n",
    "user_train, user_test = train_test_split(user_train, train_size=0.80, shuffle=True, random_state=1)\n",
    "y_train, y_test       = train_test_split(y_train,    train_size=0.80, shuffle=True, random_state=1)\n",
    "print(f\"movie/item training data shape: {item_train.shape}\")\n",
    "print(f\"movie/item test data shape: {item_test.shape}\")"
   ]
  },
  {
   "cell_type": "markdown",
   "metadata": {},
   "source": [
    "<a name=\"4\"></a>\n",
    "## 4 - Neural Network for content-based filtering"
   ]
  },
  {
   "cell_type": "code",
   "execution_count": 6,
   "metadata": {},
   "outputs": [
    {
     "name": "stdout",
     "output_type": "stream",
     "text": [
      "Metal device set to: Apple M1\n",
      "Model: \"model\"\n",
      "__________________________________________________________________________________________________\n",
      " Layer (type)                   Output Shape         Param #     Connected to                     \n",
      "==================================================================================================\n",
      " input_1 (InputLayer)           [(None, 18)]         0           []                               \n",
      "                                                                                                  \n",
      " input_2 (InputLayer)           [(None, 20)]         0           []                               \n",
      "                                                                                                  \n",
      " sequential (Sequential)        (None, 32)           41888       ['input_1[0][0]']                \n",
      "                                                                                                  \n",
      " sequential_1 (Sequential)      (None, 32)           42400       ['input_2[0][0]']                \n",
      "                                                                                                  \n",
      " tf.math.l2_normalize (TFOpLamb  (None, 32)          0           ['sequential[0][0]']             \n",
      " da)                                                                                              \n",
      "                                                                                                  \n",
      " tf.math.l2_normalize_1 (TFOpLa  (None, 32)          0           ['sequential_1[0][0]']           \n",
      " mbda)                                                                                            \n",
      "                                                                                                  \n",
      " dot (Dot)                      (None, 1)            0           ['tf.math.l2_normalize[0][0]',   \n",
      "                                                                  'tf.math.l2_normalize_1[0][0]'] \n",
      "                                                                                                  \n",
      "==================================================================================================\n",
      "Total params: 84,288\n",
      "Trainable params: 84,288\n",
      "Non-trainable params: 0\n",
      "__________________________________________________________________________________________________\n"
     ]
    }
   ],
   "source": [
    "# GRADED_CELL\n",
    "# UNQ_C1\n",
    "\n",
    "mlflow.tensorflow.autolog()\n",
    "\n",
    "num_outputs = 32\n",
    "tf.random.set_seed(1)\n",
    "user_NN = tf.keras.models.Sequential([\n",
    "    ### START CODE HERE ###     \n",
    "    tf.keras.layers.Dense(256, activation = 'relu'),\n",
    "    tf.keras.layers.Dense(128, activation='relu'),\n",
    "    tf.keras.layers.Dense(num_outputs)\n",
    "  \n",
    "  \n",
    "    ### END CODE HERE ###  \n",
    "])\n",
    "\n",
    "item_NN = tf.keras.models.Sequential([\n",
    "    ### START CODE HERE ###     \n",
    "  \n",
    "    tf.keras.layers.Dense(256, activation = 'relu'),\n",
    "    tf.keras.layers.Dense(128, activation='relu'),\n",
    "    tf.keras.layers.Dense(num_outputs)  \n",
    "  \n",
    "    ### END CODE HERE ###  \n",
    "])\n",
    "\n",
    "# create the user input and point to the base network\n",
    "input_user = tf.keras.layers.Input(shape=(num_user_features))\n",
    "vu = user_NN(input_user)\n",
    "vu = tf.linalg.l2_normalize(vu, axis=1)\n",
    "\n",
    "# create the item input and point to the base network\n",
    "input_item = tf.keras.layers.Input(shape=(num_item_features))\n",
    "vm = item_NN(input_item)\n",
    "vm = tf.linalg.l2_normalize(vm, axis=1)\n",
    "\n",
    "# compute the dot product of the two vectors vu and vm\n",
    "output = tf.keras.layers.Dot(axes=1)([vu, vm])\n",
    "\n",
    "# specify the inputs and output of the model\n",
    "model = tf.keras.Model([input_user, input_item], output)\n",
    "\n",
    "model.summary()"
   ]
  },
  {
   "cell_type": "code",
   "execution_count": 7,
   "metadata": {},
   "outputs": [],
   "source": [
    "tf.random.set_seed(1)\n",
    "cost_fn = tf.keras.losses.MeanSquaredError()\n",
    "# lr_scheduler = tf.keras.optimizers.schedules.ExponentialDecay(initial_learning_rate=0.01, decay_steps=1000, decay_rate=0.96)\n",
    "\n",
    "opt = keras.optimizers.Adam(learning_rate=0.01)\n",
    "model.compile(optimizer=opt,\n",
    "              loss=cost_fn)"
   ]
  },
  {
   "cell_type": "code",
   "execution_count": 8,
   "metadata": {},
   "outputs": [
    {
     "name": "stderr",
     "output_type": "stream",
     "text": [
      "2023/09/24 23:05:15 INFO mlflow.utils.autologging_utils: Created MLflow autologging run with ID '09c62b33d4d7445a85cbc1a6b0c25d1a', which will track hyperparameters, performance metrics, model artifacts, and lineage information for the current tensorflow workflow\n",
      "2023/09/24 23:05:15 WARNING mlflow.tensorflow: Unrecognized dataset type <class 'list'>. Dataset logging skipped.\n"
     ]
    },
    {
     "name": "stdout",
     "output_type": "stream",
     "text": [
      "Epoch 1/10\n"
     ]
    },
    {
     "name": "stderr",
     "output_type": "stream",
     "text": [
      "2023-09-24 23:05:16.182082: W tensorflow/core/platform/profile_utils/cpu_utils.cc:128] Failed to get CPU frequency: 0 Hz\n"
     ]
    },
    {
     "name": "stdout",
     "output_type": "stream",
     "text": [
      "631/631 [==============================] - 15s 20ms/step - loss: 0.1357\n",
      "Epoch 2/10\n",
      "631/631 [==============================] - 16s 25ms/step - loss: 0.1281\n",
      "Epoch 3/10\n",
      "631/631 [==============================] - 18s 28ms/step - loss: 0.1260\n",
      "Epoch 4/10\n",
      "631/631 [==============================] - 7s 11ms/step - loss: 0.1247\n",
      "Epoch 5/10\n",
      "631/631 [==============================] - 6s 10ms/step - loss: 0.1235\n",
      "Epoch 6/10\n",
      "631/631 [==============================] - 6s 9ms/step - loss: 0.1220\n",
      "Epoch 7/10\n",
      "631/631 [==============================] - 6s 10ms/step - loss: 0.1212\n",
      "Epoch 8/10\n",
      "631/631 [==============================] - 6s 10ms/step - loss: 0.1198\n",
      "Epoch 9/10\n",
      "631/631 [==============================] - 6s 10ms/step - loss: 0.1187\n",
      "Epoch 10/10\n",
      "631/631 [==============================] - 6s 10ms/step - loss: 0.1182\n"
     ]
    },
    {
     "name": "stderr",
     "output_type": "stream",
     "text": [
      "2023/09/24 23:06:48 WARNING mlflow.tensorflow: Failed to infer model signature: could not sample data to infer model signature: Cannot log input example or model signature for input with type <class 'list'>. TensorFlow Keras autologging can only log input examples and model signatures for the following input types: numpy.ndarray, dict[string -> numpy.ndarray], tensorflow.keras.utils.Sequence, and tensorflow.data.Dataset (TensorFlow >= 2.1.0 required)\n",
      "2023/09/24 23:06:48 WARNING mlflow.tensorflow: You are saving a TensorFlow Core model or Keras model without a signature. Inference with mlflow.pyfunc.spark_udf() will not work unless the model's pyfunc representation accepts pandas DataFrames as inference inputs.\n"
     ]
    },
    {
     "name": "stdout",
     "output_type": "stream",
     "text": [
      "INFO:tensorflow:Assets written to: /var/folders/lm/pf6bl2rd3vs5gtjdk6tsv7mh0000gn/T/tmpmvmkbt2n/model/data/model/assets\n"
     ]
    },
    {
     "name": "stderr",
     "output_type": "stream",
     "text": [
      "INFO:tensorflow:Assets written to: /var/folders/lm/pf6bl2rd3vs5gtjdk6tsv7mh0000gn/T/tmpmvmkbt2n/model/data/model/assets\n",
      "2023/09/24 23:06:57 WARNING mlflow.utils.autologging_utils: MLflow autologging encountered a warning: \"/Users/abdulmateen/tensorflow-test/env/lib/python3.9/site-packages/_distutils_hack/__init__.py:33: UserWarning: Setuptools is replacing distutils.\"\n"
     ]
    },
    {
     "data": {
      "text/plain": [
       "<keras.callbacks.History at 0x295b58a30>"
      ]
     },
     "execution_count": 8,
     "metadata": {},
     "output_type": "execute_result"
    }
   ],
   "source": [
    "# with mlflow.start_run() as run:\n",
    "tf.random.set_seed(1)\n",
    "model.fit([user_train[:, 1:], item_train[:, 1:]], y_train, epochs=10,batch_size=128)"
   ]
  },
  {
   "cell_type": "code",
   "execution_count": 13,
   "metadata": {},
   "outputs": [
    {
     "name": "stdout",
     "output_type": "stream",
     "text": [
      "631/631 [==============================] - 4s 6ms/step - loss: 0.1203\n"
     ]
    }
   ],
   "source": [
    "with mlflow.start_run() as run:\n",
    "    model.evaluate([user_test[:, 1:], item_test[:, 1:]], y_test)"
   ]
  },
  {
   "cell_type": "code",
   "execution_count": 9,
   "metadata": {},
   "outputs": [],
   "source": [
    "new_user_id = 50000\n",
    "new_ave_rating = 5.0\n",
    "new_year = 2002\n",
    "new_action = 0.0\n",
    "new_adventure = 5.0\n",
    "new_animation = 5.0\n",
    "new_childrens = 5.0\n",
    "new_comedy = 0.0\n",
    "new_crime = 0.0\n",
    "new_documentary = 0.0\n",
    "new_drama = 0.0\n",
    "new_fantasy = 0.0\n",
    "new_horror = 0.0\n",
    "new_mystery = 0.0\n",
    "new_romance = 0.0\n",
    "new_scifi = 0.0\n",
    "new_thriller = 0.0\n",
    "new_Film_Noir = 0.0\n",
    "new_Musical = 0.0\n",
    "new_War = 0.0\n",
    "new_Western = 0.0\n",
    "\n",
    "user_vec = np.array([[new_user_id,\n",
    "                      new_action, new_adventure, new_animation, new_childrens,\n",
    "                      new_comedy, new_crime, new_documentary,\n",
    "                      new_drama, new_fantasy, new_horror, new_mystery,\n",
    "                      new_romance, new_scifi, new_thriller,\n",
    "                      new_Film_Noir,new_Musical, new_War,new_Western]])"
   ]
  },
  {
   "cell_type": "code",
   "execution_count": 10,
   "metadata": {},
   "outputs": [
    {
     "data": {
      "text/plain": [
       "(1, 19)"
      ]
     },
     "execution_count": 10,
     "metadata": {},
     "output_type": "execute_result"
    }
   ],
   "source": [
    "user_vec.shape"
   ]
  },
  {
   "cell_type": "code",
   "execution_count": 11,
   "metadata": {},
   "outputs": [
    {
     "name": "stdout",
     "output_type": "stream",
     "text": [
      "304/304 [==============================] - 1s 4ms/step\n"
     ]
    },
    {
     "data": {
      "text/plain": [
       "(9724, 1)"
      ]
     },
     "execution_count": 11,
     "metadata": {},
     "output_type": "execute_result"
    }
   ],
   "source": [
    "# generate and replicate the user vector to match the number movies in the data set.\n",
    "user_vecs = gen_user_vecs(user_vec,len(item_vecs))\n",
    "\n",
    "# scale our user and item vectors\n",
    "suser_vecs = scalerUser.transform(user_vecs)\n",
    "sitem_vecs = scalerItem.transform(item_vecs)\n",
    "\n",
    "# make a prediction\n",
    " \n",
    "y_p = model.predict([suser_vecs[:, 1:], sitem_vecs[:, 1:]])\n",
    "\n",
    "# unscale y prediction \n",
    "# y_pu = scalerTarget.inverse_transform(y_p)\n",
    "\n",
    "# # sort the results, highest prediction first\n",
    "# sorted_index = np.argsort(-y_pu,axis=0).reshape(-1).tolist()  #negate to get largest rating first\n",
    "# sorted_ypu   = y_pu[sorted_index]\n",
    "# sorted_items = item_vecs[sorted_index]  #using unscaled vectors for display\n",
    "\n",
    "# print_pred_movies(y_p= sorted_ypu,user=1, item= sorted_items, movie_dict= movie_dict, maxcount = 10)\n",
    "y_p.shape"
   ]
  },
  {
   "cell_type": "code",
   "execution_count": 12,
   "metadata": {},
   "outputs": [
    {
     "data": {
      "text/plain": [
       "array([[ 0.21416663],\n",
       "       [-0.1850358 ],\n",
       "       [-0.16582665],\n",
       "       ...,\n",
       "       [-0.5327512 ],\n",
       "       [-0.25379378],\n",
       "       [-0.25379378]], dtype=float32)"
      ]
     },
     "execution_count": 12,
     "metadata": {},
     "output_type": "execute_result"
    }
   ],
   "source": [
    "y_p"
   ]
  },
  {
   "cell_type": "code",
   "execution_count": 16,
   "metadata": {},
   "outputs": [],
   "source": [
    "movie_dict = defaultdict(dict)\n",
    "count = 0"
   ]
  },
  {
   "cell_type": "code",
   "execution_count": 17,
   "metadata": {},
   "outputs": [],
   "source": [
    "with open('./data/ml-latest-small/content_movie_list.csv', newline='') as csvfile:\n",
    "    reader = csv.reader(csvfile, delimiter=',', quotechar='\"')\n",
    "    for line in reader:\n",
    "        if count == 0:\n",
    "            count += 1  # skip header\n",
    "            # print(line)\n",
    "        else:\n",
    "            count += 1\n",
    "            movie_id = int(line[0])\n",
    "            movie_dict[movie_id][\"title\"] = line[1]\n",
    "            movie_dict[movie_id][\"genres\"] = line[2]"
   ]
  },
  {
   "cell_type": "code",
   "execution_count": 18,
   "metadata": {},
   "outputs": [],
   "source": [
    "def print_pred_movies(y_p, user, item, movie_dict, maxcount=10):\n",
    "    \"\"\" print results of prediction of a new user. inputs are expected to be in\n",
    "        sorted order, unscaled. \"\"\"\n",
    "    count = 0\n",
    "    movies_listed = defaultdict(int)\n",
    "    disp = [[\"y_p\", \"movie id\", \"rating ave\", \"title\", \"genres\"]]\n",
    "\n",
    "    for i in range(0, y_p.shape[0]):\n",
    "        if count == maxcount:\n",
    "            break\n",
    "        count += 1\n",
    "        movie_id = item[i, 0].astype(int)\n",
    "        if movie_id in movies_listed:\n",
    "            continue\n",
    "        movies_listed[movie_id] = 1\n",
    "        disp.append([y_p[i, 0], item[i, 0].astype(int), item[i, 2].astype(float),\n",
    "                    movie_dict[movie_id]['title'], movie_dict[movie_id]['genres']])\n",
    "\n",
    "    table = tabulate.tabulate(disp, tablefmt='html', headers=\"firstrow\")\n",
    "    return(table)"
   ]
  },
  {
   "cell_type": "code",
   "execution_count": 19,
   "metadata": {},
   "outputs": [
    {
     "data": {
      "text/html": [
       "<table>\n",
       "<thead>\n",
       "<tr><th style=\"text-align: right;\">    y_p</th><th style=\"text-align: right;\">  movie id</th><th style=\"text-align: right;\">  rating ave</th><th>title                                     </th><th>genres                           </th></tr>\n",
       "</thead>\n",
       "<tbody>\n",
       "<tr><td style=\"text-align: right;\">3.9562 </td><td style=\"text-align: right;\">      1631</td><td style=\"text-align: right;\">     5      </td><td>Assignment, The (1997)                    </td><td>Action|Thriller                  </td></tr>\n",
       "<tr><td style=\"text-align: right;\">3.95451</td><td style=\"text-align: right;\">      2075</td><td style=\"text-align: right;\">     5      </td><td>Mephisto (1981)                           </td><td>Drama|War                        </td></tr>\n",
       "<tr><td style=\"text-align: right;\">3.83733</td><td style=\"text-align: right;\">      1151</td><td style=\"text-align: right;\">     5      </td><td>Lesson Faust (1994)                       </td><td>Animation|Comedy|Drama|Fantasy   </td></tr>\n",
       "<tr><td style=\"text-align: right;\">3.8232 </td><td style=\"text-align: right;\">      5008</td><td style=\"text-align: right;\">     4.38889</td><td>Witness for the Prosecution (1957)        </td><td>Drama|Mystery|Thriller           </td></tr>\n",
       "<tr><td style=\"text-align: right;\">3.72979</td><td style=\"text-align: right;\">      1797</td><td style=\"text-align: right;\">     4.25   </td><td>Everest (1998)                            </td><td>Documentary|IMAX                 </td></tr>\n",
       "<tr><td style=\"text-align: right;\">3.70849</td><td style=\"text-align: right;\">      5747</td><td style=\"text-align: right;\">     4.28571</td><td>Gallipoli (1981)                          </td><td>Drama|War                        </td></tr>\n",
       "<tr><td style=\"text-align: right;\">3.70544</td><td style=\"text-align: right;\">    136834</td><td style=\"text-align: right;\">     5      </td><td>The Eye: Infinity (2005)                  </td><td>Horror                           </td></tr>\n",
       "<tr><td style=\"text-align: right;\">3.70544</td><td style=\"text-align: right;\">    130970</td><td style=\"text-align: right;\">     5      </td><td>George Carlin: Life Is Worth Losing (2005)</td><td>Comedy                           </td></tr>\n",
       "<tr><td style=\"text-align: right;\">3.70544</td><td style=\"text-align: right;\">    121781</td><td style=\"text-align: right;\">     5      </td><td>Stuart Little 3: Call of the Wild (2005)  </td><td>Animation|Children|Comedy|Fantasy</td></tr>\n",
       "<tr><td style=\"text-align: right;\">3.70544</td><td style=\"text-align: right;\">    122092</td><td style=\"text-align: right;\">     5      </td><td>Guy X (2005)                              </td><td>Comedy|War                       </td></tr>\n",
       "</tbody>\n",
       "</table>"
      ],
      "text/plain": [
       "'<table>\\n<thead>\\n<tr><th style=\"text-align: right;\">    y_p</th><th style=\"text-align: right;\">  movie id</th><th style=\"text-align: right;\">  rating ave</th><th>title                                     </th><th>genres                           </th></tr>\\n</thead>\\n<tbody>\\n<tr><td style=\"text-align: right;\">3.9562 </td><td style=\"text-align: right;\">      1631</td><td style=\"text-align: right;\">     5      </td><td>Assignment, The (1997)                    </td><td>Action|Thriller                  </td></tr>\\n<tr><td style=\"text-align: right;\">3.95451</td><td style=\"text-align: right;\">      2075</td><td style=\"text-align: right;\">     5      </td><td>Mephisto (1981)                           </td><td>Drama|War                        </td></tr>\\n<tr><td style=\"text-align: right;\">3.83733</td><td style=\"text-align: right;\">      1151</td><td style=\"text-align: right;\">     5      </td><td>Lesson Faust (1994)                       </td><td>Animation|Comedy|Drama|Fantasy   </td></tr>\\n<tr><td style=\"text-align: right;\">3.8232 </td><td style=\"text-align: right;\">      5008</td><td style=\"text-align: right;\">     4.38889</td><td>Witness for the Prosecution (1957)        </td><td>Drama|Mystery|Thriller           </td></tr>\\n<tr><td style=\"text-align: right;\">3.72979</td><td style=\"text-align: right;\">      1797</td><td style=\"text-align: right;\">     4.25   </td><td>Everest (1998)                            </td><td>Documentary|IMAX                 </td></tr>\\n<tr><td style=\"text-align: right;\">3.70849</td><td style=\"text-align: right;\">      5747</td><td style=\"text-align: right;\">     4.28571</td><td>Gallipoli (1981)                          </td><td>Drama|War                        </td></tr>\\n<tr><td style=\"text-align: right;\">3.70544</td><td style=\"text-align: right;\">    136834</td><td style=\"text-align: right;\">     5      </td><td>The Eye: Infinity (2005)                  </td><td>Horror                           </td></tr>\\n<tr><td style=\"text-align: right;\">3.70544</td><td style=\"text-align: right;\">    130970</td><td style=\"text-align: right;\">     5      </td><td>George Carlin: Life Is Worth Losing (2005)</td><td>Comedy                           </td></tr>\\n<tr><td style=\"text-align: right;\">3.70544</td><td style=\"text-align: right;\">    121781</td><td style=\"text-align: right;\">     5      </td><td>Stuart Little 3: Call of the Wild (2005)  </td><td>Animation|Children|Comedy|Fantasy</td></tr>\\n<tr><td style=\"text-align: right;\">3.70544</td><td style=\"text-align: right;\">    122092</td><td style=\"text-align: right;\">     5      </td><td>Guy X (2005)                              </td><td>Comedy|War                       </td></tr>\\n</tbody>\\n</table>'"
      ]
     },
     "execution_count": 19,
     "metadata": {},
     "output_type": "execute_result"
    }
   ],
   "source": [
    "print_pred_movies(y_p= sorted_ypu,user=1, item= sorted_items, movie_dict= movie_dict, maxcount = 10)"
   ]
  },
  {
   "cell_type": "code",
   "execution_count": 20,
   "metadata": {},
   "outputs": [],
   "source": [
    "# GRADED_FUNCTION: sq_dist\n",
    "# UNQ_C2\n",
    "def sq_dist(a,b):\n",
    "    \"\"\"\n",
    "    Returns the squared distance between two vectors\n",
    "    Args:\n",
    "      a (ndarray (n,)): vector with n features\n",
    "      b (ndarray (n,)): vector with n features\n",
    "    Returns:\n",
    "      d (float) : distance\n",
    "    \"\"\"\n",
    "    ### START CODE HERE ###     \n",
    "    d = np.sum(np.square(a-b))\n",
    "    ### END CODE HERE ###     \n",
    "    return d"
   ]
  },
  {
   "cell_type": "code",
   "execution_count": 21,
   "metadata": {},
   "outputs": [
    {
     "name": "stdout",
     "output_type": "stream",
     "text": [
      "Model: \"model_1\"\n",
      "_________________________________________________________________\n",
      " Layer (type)                Output Shape              Param #   \n",
      "=================================================================\n",
      " input_3 (InputLayer)        [(None, 20)]              0         \n",
      "                                                                 \n",
      " sequential_1 (Sequential)   (None, 32)                42400     \n",
      "                                                                 \n",
      " tf.math.l2_normalize_2 (TFO  (None, 32)               0         \n",
      " pLambda)                                                        \n",
      "                                                                 \n",
      "=================================================================\n",
      "Total params: 42,400\n",
      "Trainable params: 42,400\n",
      "Non-trainable params: 0\n",
      "_________________________________________________________________\n"
     ]
    }
   ],
   "source": [
    "input_item_m = tf.keras.layers.Input(shape=(num_item_features))    # input layer\n",
    "vm_m = item_NN(input_item_m)                                       # use the trained item_NN\n",
    "vm_m = tf.linalg.l2_normalize(vm_m, axis=1)                        # incorporate normalization as was done in the original model\n",
    "model_m = tf.keras.Model(input_item_m, vm_m)                                \n",
    "model_m.summary()"
   ]
  },
  {
   "cell_type": "code",
   "execution_count": 22,
   "metadata": {},
   "outputs": [
    {
     "name": "stdout",
     "output_type": "stream",
     "text": [
      "304/304 [==============================] - 1s 2ms/step\n",
      "size of all predicted movie feature vectors: (9724, 32)\n"
     ]
    }
   ],
   "source": [
    "scaled_item_vecs = scalerItem.transform(item_vecs)\n",
    "vms = model_m.predict(scaled_item_vecs[:,1:])\n",
    "print(f\"size of all predicted movie feature vectors: {vms.shape}\")"
   ]
  },
  {
   "cell_type": "code",
   "execution_count": 19,
   "metadata": {},
   "outputs": [
    {
     "ename": "KeyboardInterrupt",
     "evalue": "",
     "output_type": "error",
     "traceback": [
      "\u001b[0;31m---------------------------------------------------------------------------\u001b[0m",
      "\u001b[0;31mKeyboardInterrupt\u001b[0m                         Traceback (most recent call last)",
      "Cell \u001b[0;32mIn[19], line 7\u001b[0m\n\u001b[1;32m      5\u001b[0m \u001b[39mfor\u001b[39;00m i \u001b[39min\u001b[39;00m \u001b[39mrange\u001b[39m(dim):\n\u001b[1;32m      6\u001b[0m     \u001b[39mfor\u001b[39;00m j \u001b[39min\u001b[39;00m \u001b[39mrange\u001b[39m(dim):\n\u001b[0;32m----> 7\u001b[0m         dist[i,j] \u001b[39m=\u001b[39m sq_dist(vms[i, :], vms[j, :])\n\u001b[1;32m      9\u001b[0m m_dist \u001b[39m=\u001b[39m ma\u001b[39m.\u001b[39mmasked_array(dist, mask\u001b[39m=\u001b[39mnp\u001b[39m.\u001b[39midentity(dist\u001b[39m.\u001b[39mshape[\u001b[39m0\u001b[39m]))  \u001b[39m# mask the diagonal\u001b[39;00m\n\u001b[1;32m     11\u001b[0m disp \u001b[39m=\u001b[39m [[\u001b[39m\"\u001b[39m\u001b[39mmovie1\u001b[39m\u001b[39m\"\u001b[39m, \u001b[39m\"\u001b[39m\u001b[39mgenres\u001b[39m\u001b[39m\"\u001b[39m, \u001b[39m\"\u001b[39m\u001b[39mmovie2\u001b[39m\u001b[39m\"\u001b[39m, \u001b[39m\"\u001b[39m\u001b[39mgenres\u001b[39m\u001b[39m\"\u001b[39m]]\n",
      "\u001b[0;31mKeyboardInterrupt\u001b[0m: "
     ]
    }
   ],
   "source": [
    "count = 0 # number of movies to display\n",
    "dim = len(vms)\n",
    "dist = np.zeros((dim,dim))\n",
    "\n",
    "for i in range(dim):\n",
    "    for j in range(dim):\n",
    "        dist[i,j] = sq_dist(vms[i, :], vms[j, :])\n",
    "        \n",
    "m_dist = ma.masked_array(dist, mask=np.identity(dist.shape[0]))  # mask the diagonal\n",
    "\n",
    "disp = [[\"movie1\", \"genres\", \"movie2\", \"genres\"]]\n",
    "for i in range(count):\n",
    "    min_idx = np.argmin(m_dist[i])\n",
    "    movie1_id = int(item_vecs[i,0])\n",
    "    movie2_id = int(item_vecs[min_idx,0])\n",
    "    disp.append( [movie_dict[movie1_id]['title'], movie_dict[movie1_id]['genres'],\n",
    "                  movie_dict[movie2_id]['title'], movie_dict[movie1_id]['genres']]\n",
    "               )\n",
    "table = tabulate.tabulate(disp, tablefmt='html', headers=\"firstrow\")\n",
    "table"
   ]
  },
  {
   "cell_type": "code",
   "execution_count": 20,
   "metadata": {},
   "outputs": [],
   "source": [
    "# GRADED_FUNCTION: sq_dist\n",
    "# UNQ_C2\n",
    "def sq_dist(a,b):\n",
    "    \"\"\"\n",
    "    Returns the squared distance between two vectors\n",
    "    Args:\n",
    "      a (ndarray (n,)): vector with n features\n",
    "      b (ndarray (n,)): vector with n features\n",
    "    Returns:\n",
    "      d (float) : distance\n",
    "    \"\"\"\n",
    "    ### START CODE HERE ###     \n",
    "    d = np.sum(np.square(a-b))\n",
    "    ### END CODE HERE ###     \n",
    "    return d"
   ]
  },
  {
   "cell_type": "code",
   "execution_count": 21,
   "metadata": {},
   "outputs": [
    {
     "name": "stdout",
     "output_type": "stream",
     "text": [
      "Model: \"model_2\"\n",
      "_________________________________________________________________\n",
      " Layer (type)                Output Shape              Param #   \n",
      "=================================================================\n",
      " input_4 (InputLayer)        [(None, 20)]              0         \n",
      "                                                                 \n",
      " sequential_1 (Sequential)   (None, 32)                42400     \n",
      "                                                                 \n",
      " tf.math.l2_normalize_3 (TFO  (None, 32)               0         \n",
      " pLambda)                                                        \n",
      "                                                                 \n",
      "=================================================================\n",
      "Total params: 42,400\n",
      "Trainable params: 42,400\n",
      "Non-trainable params: 0\n",
      "_________________________________________________________________\n"
     ]
    }
   ],
   "source": [
    "input_item_m = tf.keras.layers.Input(shape=(num_item_features))    # input layer\n",
    "vm_m = item_NN(input_item_m)                                       # use the trained item_NN\n",
    "vm_m = tf.linalg.l2_normalize(vm_m, axis=1)                        # incorporate normalization as was done in the original model\n",
    "model_m = tf.keras.Model(input_item_m, vm_m)                                \n",
    "model_m.summary()"
   ]
  },
  {
   "cell_type": "code",
   "execution_count": 22,
   "metadata": {},
   "outputs": [
    {
     "name": "stdout",
     "output_type": "stream",
     "text": [
      "304/304 [==============================] - 1s 3ms/step\n",
      "size of all predicted movie feature vectors: (9724, 32)\n"
     ]
    }
   ],
   "source": [
    "scaled_item_vecs = scalerItem.transform(item_vecs)\n",
    "vms = model_m.predict(scaled_item_vecs[:,1:])\n",
    "print(f\"size of all predicted movie feature vectors: {vms.shape}\")"
   ]
  },
  {
   "cell_type": "code",
   "execution_count": 23,
   "metadata": {},
   "outputs": [],
   "source": [
    "count = 5  # number of movies to display\n",
    "dim = len(vms)\n",
    "dist = np.zeros((dim,dim))\n",
    "\n",
    "for i in range(dim):\n",
    "    for j in range(dim):\n",
    "        dist[i,j] = sq_dist(vms[i, :], vms[j, :])\n"
   ]
  },
  {
   "cell_type": "code",
   "execution_count": 44,
   "metadata": {},
   "outputs": [],
   "source": [
    "count = 10"
   ]
  },
  {
   "cell_type": "code",
   "execution_count": 45,
   "metadata": {},
   "outputs": [
    {
     "data": {
      "text/html": [
       "<table>\n",
       "<thead>\n",
       "<tr><th>movie1                     </th><th>genres                                     </th><th>movie2                                                        </th><th>genres                                     </th></tr>\n",
       "</thead>\n",
       "<tbody>\n",
       "<tr><td>Toy Story (1995)           </td><td>Adventure|Animation|Children|Comedy|Fantasy</td><td>Howl&#x27;s Moving Castle (Hauru no ugoku shiro) (2004)            </td><td>Adventure|Animation|Children|Comedy|Fantasy</td></tr>\n",
       "<tr><td>Grumpier Old Men (1995)    </td><td>Comedy|Romance                             </td><td>Addams Family, The (1991)                                     </td><td>Comedy|Romance                             </td></tr>\n",
       "<tr><td>Heat (1995)                </td><td>Action|Crime|Thriller                      </td><td>Eat Drink Man Woman (Yin shi nan nu) (1994)                   </td><td>Action|Crime|Thriller                      </td></tr>\n",
       "<tr><td>Seven (a.k.a. Se7en) (1995)</td><td>Mystery|Thriller                           </td><td>Léon: The Professional (a.k.a. The Professional) (Léon) (1994)</td><td>Mystery|Thriller                           </td></tr>\n",
       "<tr><td>Usual Suspects, The (1995) </td><td>Crime|Mystery|Thriller                     </td><td>Sweet Hereafter, The (1997)                                   </td><td>Crime|Mystery|Thriller                     </td></tr>\n",
       "<tr><td>From Dusk Till Dawn (1996) </td><td>Action|Comedy|Horror|Thriller              </td><td>Buffalo &#x27;66 (a.k.a. Buffalo 66) (1998)                        </td><td>Action|Comedy|Horror|Thriller              </td></tr>\n",
       "<tr><td>Bottle Rocket (1996)       </td><td>Adventure|Comedy|Crime|Romance             </td><td>Madness of King George, The (1994)                            </td><td>Adventure|Comedy|Crime|Romance             </td></tr>\n",
       "<tr><td>Braveheart (1995)          </td><td>Action|Drama|War                           </td><td>In the Mood For Love (Fa yeung nin wa) (2000)                 </td><td>Action|Drama|War                           </td></tr>\n",
       "<tr><td>Rob Roy (1995)             </td><td>Action|Drama|Romance|War                   </td><td>Browning Version, The (1994)                                  </td><td>Action|Drama|Romance|War                   </td></tr>\n",
       "<tr><td>Canadian Bacon (1995)      </td><td>Comedy|War                                 </td><td>Bushwhacked (1995)                                            </td><td>Comedy|War                                 </td></tr>\n",
       "</tbody>\n",
       "</table>"
      ],
      "text/plain": [
       "'<table>\\n<thead>\\n<tr><th>movie1                     </th><th>genres                                     </th><th>movie2                                                        </th><th>genres                                     </th></tr>\\n</thead>\\n<tbody>\\n<tr><td>Toy Story (1995)           </td><td>Adventure|Animation|Children|Comedy|Fantasy</td><td>Howl&#x27;s Moving Castle (Hauru no ugoku shiro) (2004)            </td><td>Adventure|Animation|Children|Comedy|Fantasy</td></tr>\\n<tr><td>Grumpier Old Men (1995)    </td><td>Comedy|Romance                             </td><td>Addams Family, The (1991)                                     </td><td>Comedy|Romance                             </td></tr>\\n<tr><td>Heat (1995)                </td><td>Action|Crime|Thriller                      </td><td>Eat Drink Man Woman (Yin shi nan nu) (1994)                   </td><td>Action|Crime|Thriller                      </td></tr>\\n<tr><td>Seven (a.k.a. Se7en) (1995)</td><td>Mystery|Thriller                           </td><td>Léon: The Professional (a.k.a. The Professional) (Léon) (1994)</td><td>Mystery|Thriller                           </td></tr>\\n<tr><td>Usual Suspects, The (1995) </td><td>Crime|Mystery|Thriller                     </td><td>Sweet Hereafter, The (1997)                                   </td><td>Crime|Mystery|Thriller                     </td></tr>\\n<tr><td>From Dusk Till Dawn (1996) </td><td>Action|Comedy|Horror|Thriller              </td><td>Buffalo &#x27;66 (a.k.a. Buffalo 66) (1998)                        </td><td>Action|Comedy|Horror|Thriller              </td></tr>\\n<tr><td>Bottle Rocket (1996)       </td><td>Adventure|Comedy|Crime|Romance             </td><td>Madness of King George, The (1994)                            </td><td>Adventure|Comedy|Crime|Romance             </td></tr>\\n<tr><td>Braveheart (1995)          </td><td>Action|Drama|War                           </td><td>In the Mood For Love (Fa yeung nin wa) (2000)                 </td><td>Action|Drama|War                           </td></tr>\\n<tr><td>Rob Roy (1995)             </td><td>Action|Drama|Romance|War                   </td><td>Browning Version, The (1994)                                  </td><td>Action|Drama|Romance|War                   </td></tr>\\n<tr><td>Canadian Bacon (1995)      </td><td>Comedy|War                                 </td><td>Bushwhacked (1995)                                            </td><td>Comedy|War                                 </td></tr>\\n</tbody>\\n</table>'"
      ]
     },
     "execution_count": 45,
     "metadata": {},
     "output_type": "execute_result"
    }
   ],
   "source": [
    "        \n",
    "m_dist = ma.masked_array(dist, mask=np.identity(dist.shape[0]))  # mask the diagonal\n",
    "\n",
    "disp = [[\"movie1\", \"genres\", \"movie2\", \"genres\"]]\n",
    "for i in range(count):\n",
    "    min_idx = np.argmin(m_dist[i])\n",
    "    movie1_id = int(item_vecs[i,0])\n",
    "    movie2_id = int(item_vecs[min_idx,0])\n",
    "    disp.append( [movie_dict[movie1_id]['title'], movie_dict[movie1_id]['genres'],\n",
    "                  movie_dict[movie2_id]['title'], movie_dict[movie1_id]['genres']]\n",
    "               )\n",
    "table = tabulate.tabulate(disp, tablefmt='html', headers=\"firstrow\")\n",
    "table"
   ]
  },
  {
   "cell_type": "code",
   "execution_count": null,
   "metadata": {},
   "outputs": [],
   "source": [
    "import mlflow\n",
    "from mlflow.tracking import MlflowClient\n",
    "\n",
    "MLFLOW_TRACKING_URI = \"http://127.0.0.1:5000\"\n",
    "\n",
    "client = MlflowClient(tracking_uri = MLFLOW_TRACKING_URI)"
   ]
  },
  {
   "cell_type": "code",
   "execution_count": 52,
   "metadata": {},
   "outputs": [],
   "source": [
    "from mlflow.entities import ViewType\n",
    "\n",
    "runs = client.search_runs(\n",
    "    experiment_ids = '634769499380944910',\n",
    "    filter_string = \"metrics.loss < 0.2\",\n",
    "    run_view_type= ViewType.ACTIVE_ONLY,\n",
    "    max_results = 2,\n",
    "    order_by = ['metrics.loss ASC']\n",
    "\n",
    ")\n"
   ]
  },
  {
   "cell_type": "code",
   "execution_count": 55,
   "metadata": {},
   "outputs": [
    {
     "name": "stdout",
     "output_type": "stream",
     "text": [
      "Run id: 668624f5da394664bcc5285dc750d6e6, Loss: 0.1414\n",
      "Run id: 1e7ebf9306a046b585e001eb5c66c07d, Loss: 0.1944\n"
     ]
    }
   ],
   "source": [
    "for run in runs:\n",
    "    print(f\"Run id: {run.info.run_id}, Loss: {run.data.metrics['loss']:.4f}\")"
   ]
  },
  {
   "cell_type": "code",
   "execution_count": 56,
   "metadata": {},
   "outputs": [
    {
     "name": "stderr",
     "output_type": "stream",
     "text": [
      "Registered model 'recommender_system' already exists. Creating a new version of this model...\n",
      "2023/08/20 18:47:04 INFO mlflow.tracking._model_registry.client: Waiting up to 300 seconds for model version to finish creation. Model name: recommender_system, version 3\n",
      "Created version '3' of model 'recommender_system'.\n"
     ]
    },
    {
     "data": {
      "text/plain": [
       "<ModelVersion: aliases=[], creation_timestamp=1692553624804, current_stage='None', description='', last_updated_timestamp=1692553624804, name='recommender_system', run_id='668624f5da394664bcc5285dc750d6e6', run_link='', source='mlflow-artifacts:/634769499380944910/668624f5da394664bcc5285dc750d6e6/artifacts/model', status='READY', status_message='', tags={}, user_id='', version='3'>"
      ]
     },
     "execution_count": 56,
     "metadata": {},
     "output_type": "execute_result"
    }
   ],
   "source": [
    "run_id = \"668624f5da394664bcc5285dc750d6e6\"\n",
    "model_uri = f\"runs:/{run_id}/model\"\n",
    "mlflow.register_model(model_uri=model_uri,name='recommender_system')"
   ]
  },
  {
   "cell_type": "code",
   "execution_count": null,
   "metadata": {},
   "outputs": [],
   "source": []
  }
 ],
 "metadata": {
  "kernelspec": {
   "display_name": "Python 3 (ipykernel)",
   "language": "python",
   "name": "python3"
  },
  "language_info": {
   "codemirror_mode": {
    "name": "ipython",
    "version": 3
   },
   "file_extension": ".py",
   "mimetype": "text/x-python",
   "name": "python",
   "nbconvert_exporter": "python",
   "pygments_lexer": "ipython3",
   "version": "3.9.15"
  }
 },
 "nbformat": 4,
 "nbformat_minor": 2
}
